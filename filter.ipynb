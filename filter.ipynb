{
 "cells": [
  {
   "cell_type": "code",
   "execution_count": 1,
   "metadata": {},
   "outputs": [],
   "source": [
    "import cv2\n",
    "import numpy as np\n",
    "import render as r"
   ]
  },
  {
   "cell_type": "code",
   "execution_count": 6,
   "metadata": {},
   "outputs": [],
   "source": [
    "image = cv2.imread('lena.png')\n",
    "image2 = cv2.imread('houghTransform.png')"
   ]
  },
  {
   "cell_type": "code",
   "execution_count": 22,
   "metadata": {},
   "outputs": [],
   "source": [
    "def intRound(image):\n",
    "    out = np.ones(image.shape, np.uint8)\n",
    "    for i in range(len(image)):\n",
    "        for j in range(len(image[0])):\n",
    "            for k in range(len(image[0][0])):\n",
    "                if image[i][j][k] == np.Inf:\n",
    "                    out[i][j][k] = 255\n",
    "                else:\n",
    "                    out[i][j][k] = int(image[i][j][k])\n",
    "    return out\n",
    "                \n",
    "def normalize(image, depth, rounded=True):\n",
    "    norm = (depth*(image - image.mean())/(image.std())) + 128\n",
    "    if rounded:\n",
    "        return intRound(norm)\n",
    "    else:\n",
    "        return norm\n",
    "\n",
    "def addNoise(image, depth, intensity):    \n",
    "    norm = normalize(image, depth, False)\n",
    "    noisy = intRound(norm + (24*intensity/255) * norm.std() * np.random.random(norm.shape))\n",
    "    return noisy\n",
    "\n",
    "def blacken(image):\n",
    "    out = np.ones(image.shape, np.uint8)\n",
    "    for i in range(len(image)):\n",
    "        for j in range(len(image[0])):\n",
    "            for k in range(len(image[0][0])):\n",
    "                if image[i][j][k] < 40:\n",
    "                    out[i][j][k] = int(0)\n",
    "                else:\n",
    "                    out[i][j][k] = int(image[i][j][k])\n",
    "    return out"
   ]
  },
  {
   "cell_type": "code",
   "execution_count": 23,
   "metadata": {},
   "outputs": [],
   "source": [
    "norm = blacken(image2)\n",
    "\n",
    "#print(hex(image2[50][50][0]))\n",
    "r.dispImg(image2)\n",
    "r.dispImg(norm)"
   ]
  },
  {
   "cell_type": "code",
   "execution_count": 126,
   "metadata": {},
   "outputs": [],
   "source": [
    "filt = addNoise(image, 40, 12)\n",
    "r.dispImg(image)\n",
    "r.dispImg(filt)"
   ]
  },
  {
   "cell_type": "code",
   "execution_count": 94,
   "metadata": {},
   "outputs": [
    {
     "name": "stdout",
     "output_type": "stream",
     "text": [
      "[[[109 108 109]\n",
      "  [106 126  97]\n",
      "  [ 93 114  87]\n",
      "  ...\n",
      "  [ 98 112  97]\n",
      "  [ 87 114  93]\n",
      "  [ 97 126 106]]\n",
      "\n",
      " [[ 91 114  91]\n",
      "  [ 83 119  97]\n",
      "  [ 95 108  97]\n",
      "  ...\n",
      "  [ 96  85 104]\n",
      "  [ 97 108  95]\n",
      "  [ 97 119  83]]\n",
      "\n",
      " [[ 96  99  96]\n",
      "  [101 100 103]\n",
      "  [100 111  97]\n",
      "  ...\n",
      "  [100 105  80]\n",
      "  [ 97 111 100]\n",
      "  [103 100 101]]\n",
      "\n",
      " ...\n",
      "\n",
      " [[ 55  89  55]\n",
      "  [ 91 122 103]\n",
      "  [105  94 102]\n",
      "  ...\n",
      "  [ 55 110  88]\n",
      "  [102  94 105]\n",
      "  [103 122  91]]\n",
      "\n",
      " [[ 93  61  93]\n",
      "  [ 78 112  81]\n",
      "  [ 94 105 103]\n",
      "  ...\n",
      "  [ 81  98 103]\n",
      "  [103 105  94]\n",
      "  [ 81 112  78]]\n",
      "\n",
      " [[ 81 119  81]\n",
      "  [103 119  98]\n",
      "  [100  89 108]\n",
      "  ...\n",
      "  [ 91 124  83]\n",
      "  [108  89 100]\n",
      "  [ 98 119 103]]]\n"
     ]
    }
   ],
   "source": [
    "norm = normalize(image, 50)\n",
    "f = np.fft.fft2(norm)\n",
    "fshift = np.fft.fftshift(f)\n",
    "mag = intRound(20*np.log((np.abs(fshift)+1)))\n",
    "print(mag)\n",
    "#r.dispImg(mag)"
   ]
  },
  {
   "cell_type": "code",
   "execution_count": null,
   "metadata": {},
   "outputs": [],
   "source": []
  }
 ],
 "metadata": {
  "kernelspec": {
   "display_name": "Python 3",
   "language": "python",
   "name": "python3"
  },
  "language_info": {
   "codemirror_mode": {
    "name": "ipython",
    "version": 3
   },
   "file_extension": ".py",
   "mimetype": "text/x-python",
   "name": "python",
   "nbconvert_exporter": "python",
   "pygments_lexer": "ipython3",
   "version": "3.7.4"
  }
 },
 "nbformat": 4,
 "nbformat_minor": 2
}
