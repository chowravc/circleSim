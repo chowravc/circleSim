{
 "cells": [
  {
   "cell_type": "code",
   "execution_count": 1,
   "metadata": {},
   "outputs": [],
   "source": [
    "import cv2\n",
    "import numpy as np\n",
    "import datetime\n",
    "\n",
    "import circle as c\n",
    "import render as r\n",
    "import perlinNoise as pN"
   ]
  },
  {
   "cell_type": "code",
   "execution_count": 2,
   "metadata": {},
   "outputs": [],
   "source": [
    "#height of image\n",
    "height = 480\n",
    "\n",
    "#width of image\n",
    "width = 704\n",
    "\n",
    "#Number of circles\n",
    "numberOfCircles = 20\n",
    "\n",
    "#Minimum radius and Maximum radius of circles\n",
    "minRadius = 20\n",
    "maxRadius = 30"
   ]
  },
  {
   "cell_type": "code",
   "execution_count": 3,
   "metadata": {},
   "outputs": [],
   "source": [
    "#Create velocity vector field\n",
    "def velocityField(height, width, seed, speed, scale):\n",
    "    velocity = []\n",
    "    velocity.append(pN.makeNoise(height, width, seed[0], scale[0])*speed)\n",
    "    velocity.append(pN.makeNoise(height, width, seed[1], scale[1])*speed)\n",
    "    return velocity\n",
    "\n",
    "#Create random velocity vector field\n",
    "def randVF(height, width, speed):\n",
    "    seed = np.random.randint(low=0, high=10, size=2)\n",
    "    scale = np.random.randint(low=0, high=10, size=2)\n",
    "    return velocityField(height, width, seed, speed, scale)"
   ]
  },
  {
   "cell_type": "code",
   "execution_count": 4,
   "metadata": {},
   "outputs": [],
   "source": [
    "#Makes the islands flow by 1 time step\n",
    "def flow(circles, field):\n",
    "    for circle in circles:\n",
    "        y = circle[0][0]\n",
    "        x = circle[0][1]\n",
    "        circle[0][0] = int(circle[0][0] + field[0][circle[0][0]][circle[0][1]])\n",
    "        circle[0][1] = int(circle[0][1] + field[1][circle[0][0]][circle[0][1]])\n",
    "    return circles\n",
    "\n",
    "#plots circles\n",
    "def plotCircles(img, circles):\n",
    "    for i in circles: \n",
    "        img = circle(img, i[0], i[1], i[2])\n",
    "    return img"
   ]
  },
  {
   "cell_type": "code",
   "execution_count": 5,
   "metadata": {},
   "outputs": [
    {
     "name": "stdout",
     "output_type": "stream",
     "text": [
      "Time taken to make circles:  0:00:00.140030\n"
     ]
    },
    {
     "data": {
      "text/plain": [
       "'\\n#Saving the first image\\nimgs.append(img)\\ncv2.imwrite(\\'0.jpg\\', img)\\n\\n#Making the velocity field\\nvelocityField = randVF(height, width, 5)\\n\\niterations = 100\\n\\n#Time now\\nstartTime = datetime.datetime.now()\\nfor i in range(1, iterations):\\n    circles.append(flow(circles[-1], p))\\n    img = createImg(height, width)\\n    img = plotCircles(img, circles[-1])\\n    \\n    imgs.append(img)\\n    \\n    fileName = str(i)+\\'.jpg\\'\\n    cv2.imwrite(fileName, img)\\n\\n#Printing how long the flow took to simulate\\nprint(\"Time taken to simulate: \", datetime.datetime.now() - startTime)\\n\\nout = cv2.VideoWriter(\\'Simulation.mp4\\',cv2.VideoWriter_fourcc(*\\'DIVX\\'), 15, (width, height))\\n \\nfor i in range(len(imgs)):\\n    out.write(imgs[i])\\nout.release()\\n'"
      ]
     },
     "execution_count": 5,
     "metadata": {},
     "output_type": "execute_result"
    }
   ],
   "source": [
    "circles = []\n",
    "\n",
    "startTime = datetime.datetime.now()\n",
    "boundingBoxes = []\n",
    "imgs = []\n",
    "img = r.createImg(height, width)\n",
    "\n",
    "#Creating the circles\n",
    "for i in range(numberOfCircles):\n",
    "        \n",
    "    circles.append(c.nonIntersectingCircle(circles, height, width, minRadius, maxRadius))\n",
    "    boundingBoxes.append(circles[-1].boundingBox(height, width))\n",
    "    #print(boundingBoxes[-1])\n",
    "    img = circles[-1].draw(img)\n",
    "\n",
    "#Printing how long the circles took to create\n",
    "print(\"Time taken to make circles: \", datetime.datetime.now() - startTime)\n",
    "\n",
    "r.dispImg(img)\n",
    "cv2.imwrite('circleImages1.jpg', img)\n",
    "\n",
    "boxFile = open(\"boxes1.txt\",\"a\") \n",
    "for box in boundingBoxes:\n",
    "    boxFile.write(repr(box[0]) + \" \" + repr(box[1]) + \" \" + repr(box[2]) + \" \" + repr(box[3]) + \" \" + repr(box[4]) + \"\\n\")\n",
    "\n",
    "boxFile.close() \n",
    "\n",
    "'''\n",
    "#Saving the first image\n",
    "imgs.append(img)\n",
    "cv2.imwrite('0.jpg', img)\n",
    "\n",
    "#Making the velocity field\n",
    "velocityField = randVF(height, width, 5)\n",
    "\n",
    "iterations = 100\n",
    "\n",
    "#Time now\n",
    "startTime = datetime.datetime.now()\n",
    "for i in range(1, iterations):\n",
    "    circles.append(flow(circles[-1], p))\n",
    "    img = createImg(height, width)\n",
    "    img = plotCircles(img, circles[-1])\n",
    "    \n",
    "    imgs.append(img)\n",
    "    \n",
    "    fileName = str(i)+'.jpg'\n",
    "    cv2.imwrite(fileName, img)\n",
    "\n",
    "#Printing how long the flow took to simulate\n",
    "print(\"Time taken to simulate: \", datetime.datetime.now() - startTime)\n",
    "\n",
    "out = cv2.VideoWriter('Simulation.mp4',cv2.VideoWriter_fourcc(*'DIVX'), 15, (width, height))\n",
    " \n",
    "for i in range(len(imgs)):\n",
    "    out.write(imgs[i])\n",
    "out.release()\n",
    "'''"
   ]
  },
  {
   "cell_type": "code",
   "execution_count": null,
   "metadata": {},
   "outputs": [],
   "source": []
  },
  {
   "cell_type": "code",
   "execution_count": null,
   "metadata": {},
   "outputs": [],
   "source": []
  }
 ],
 "metadata": {
  "kernelspec": {
   "display_name": "Python 3",
   "language": "python",
   "name": "python3"
  },
  "language_info": {
   "codemirror_mode": {
    "name": "ipython",
    "version": 3
   },
   "file_extension": ".py",
   "mimetype": "text/x-python",
   "name": "python",
   "nbconvert_exporter": "python",
   "pygments_lexer": "ipython3",
   "version": "3.7.4"
  }
 },
 "nbformat": 4,
 "nbformat_minor": 2
}
